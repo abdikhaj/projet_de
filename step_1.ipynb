{
 "cells": [
  {
   "cell_type": "code",
   "execution_count": null,
   "metadata": {},
   "outputs": [],
   "source": [
    "\"\"\" Quel périmetre?\n",
    "\n",
    "- visite du site:\n",
    "    - trustpilot filtre sur le pays (truspilot US, truspilot FR etc.)\n",
    "    - catégories -> 22 (aliment, élétronique, santé etc.)\n",
    "    - sous-catégories -> une dizaine max par catégories\n",
    "        - pages catégorie -> nombre d'avis, score, le lieu, nom entreprise, sous-cat (+)\n",
    "        - pages catégorie -> trier par avis pertinent, avec le plus d'avis, avis les plus recent\n",
    "            - pages entreprise -> (+) titre de l'avis, le texte de l'avis, le lieu de l'avis, la date, le username, nombre davis effectué par la personne\n",
    "            - pages entreprise -> réponse de l'entreprise, date\n",
    "                - pages personne -> tous ces avis toute entreprise confondue\n",
    "\n",
    "- on peut commencer par prendre le site Truspilote en francais -> les entreprises en france\n",
    "- toute la france\n",
    "- quelles catégories?\n",
    "    - \n",
    "- problématique: \n",
    "    - quelles entreprises sont les mieux notées par catégories (banques, web etc.), les tendances par années\n",
    "    - peut etre catégorie aliment + \n",
    "\"\"\""
   ]
  },
  {
   "cell_type": "code",
   "execution_count": null,
   "metadata": {},
   "outputs": [],
   "source": [
    "\"\"\"\n",
    "Quelle solution pour récuperer de la données?:\n",
    "- Scrapping\n",
    "- API truspilot doc ici https://documentation-apidocumentation.trustpilot.com/\n",
    "\"\"\""
   ]
  },
  {
   "cell_type": "code",
   "execution_count": null,
   "metadata": {},
   "outputs": [],
   "source": []
  },
  {
   "cell_type": "code",
   "execution_count": 3,
   "metadata": {},
   "outputs": [],
   "source": [
    "from urllib.request import urlopen\n",
    "from bs4 import BeautifulSoup\n",
    "#import pandas as pd"
   ]
  },
  {
   "cell_type": "code",
   "execution_count": 26,
   "metadata": {},
   "outputs": [],
   "source": [
    "tpPage = urlopen(\"https://fr.trustpilot.com/categories/electronics_technology\")\n",
    "soup = BeautifulSoup(tpPage, 'html.parser')\n",
    "\n",
    "tpTitles = soup.findAll(name = 'p', attrs = {'class': 'styles_displayName__1LIcI'})\n",
    "tpMetrics = soup.findAll(name = 'p', attrs = {'class': 'styles_ratingText__nheL7'})\n",
    "tpPlaces = soup.findAll(name = 'p', attrs = {'class': 'styles_location__3JATO'})\n",
    "\n",
    "\n",
    "title = [] # On crée une liste vide qui contiendra tous les titres propres\n",
    "for element in tpTitles:\n",
    "    title.append(element.text)\n",
    "\n",
    "metric = [] # On crée une liste vide qui contiendra tous les titres propres\n",
    "for element in tpMetrics:\n",
    "    metric.append(element.text)\n",
    "\n",
    "place = [] # On crée une liste vide qui contiendra tous les titres propres\n",
    "for element in tpPlaces:\n",
    "    place.append(element.text)\n",
    "\n",
    "\n"
   ]
  },
  {
   "cell_type": "code",
   "execution_count": 28,
   "metadata": {},
   "outputs": [
    {
     "name": "stdout",
     "output_type": "stream",
     "text": [
      "['Paris,\\xa0France', 'Savignac-les-Eglises,\\xa0France', 'Marseille,\\xa0France', 'Rosières-près-Troyes,\\xa0France', 'Lyon,\\xa0France', 'Le Kremlin-Bicêtre,\\xa0France', 'Lyon,\\xa0France', 'Bayonne,\\xa0France', 'Saumur,\\xa0France', 'Bouaye,\\xa0France', 'WITTERSDORF,\\xa0France', 'Paris,\\xa0France', 'La Palud sur Verdon,\\xa0France', 'COLOMIERS,\\xa0France', 'TAVERNY CEDEX,\\xa0France', 'Paris,\\xa0France', 'Strasbourg,\\xa0France']\n"
     ]
    }
   ],
   "source": [
    "print(place)"
   ]
  }
 ],
 "metadata": {
  "kernelspec": {
   "display_name": "Python 3.10.6 64-bit",
   "language": "python",
   "name": "python3"
  },
  "language_info": {
   "codemirror_mode": {
    "name": "ipython",
    "version": 3
   },
   "file_extension": ".py",
   "mimetype": "text/x-python",
   "name": "python",
   "nbconvert_exporter": "python",
   "pygments_lexer": "ipython3",
   "version": "3.10.6"
  },
  "orig_nbformat": 4,
  "vscode": {
   "interpreter": {
    "hash": "31f2aee4e71d21fbe5cf8b01ff0e069b9275f58929596ceb00d14d90e3e16cd6"
   }
  }
 },
 "nbformat": 4,
 "nbformat_minor": 2
}
