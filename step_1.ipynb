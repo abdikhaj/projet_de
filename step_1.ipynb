{
 "cells": [
  {
   "cell_type": "code",
   "execution_count": null,
   "metadata": {},
   "outputs": [],
   "source": [
    "\"\"\" Quel périmetre?\n",
    "\n",
    "- visite du site:\n",
    "    - trustpilot filtre sur le pays (truspilot US, truspilot FR etc.)\n",
    "    - catégories -> 22 (aliment, élétronique, santé etc.)\n",
    "    - sous-catégories -> une dizaine max par catégories\n",
    "        - pages catégorie -> nombre d'avis, score, le lieu, nom entreprise, sous-cat (+)\n",
    "        - pages catégorie -> trier par avis pertinent, avec le plus d'avis, avis les plus recent\n",
    "            - pages entreprise -> (+) titre de l'avis, le texte de l'avis, le lieu de l'avis, la date, le username, nombre davis effectué par la personne\n",
    "            - pages entreprise -> réponse de l'entreprise, date\n",
    "                - pages personne -> tous ces avis toute entreprise confondue\n",
    "\n",
    "- on peut commencer par prendre le site Truspilote en francais -> les entreprises en france\n",
    "- toute la france\n",
    "- quelles catégories?\n",
    "    - \n",
    "- problématique: \n",
    "    - quelles entreprises sont les mieux notées par catégories (banques, web etc.), les tendances par années\n",
    "    - peut etre catégorie aliment + \n",
    "\"\"\""
   ]
  },
  {
   "cell_type": "code",
   "execution_count": null,
   "metadata": {},
   "outputs": [],
   "source": [
    "\"\"\"\n",
    "Quelle solution pour récuperer de la données?:\n",
    "- Scrapping\n",
    "- API truspilot doc ici https://documentation-apidocumentation.trustpilot.com/\n",
    "    - nécessite un compte business (demande validation que le site web exite vraiment)\n",
    "\"\"\""
   ]
  },
  {
   "cell_type": "code",
   "execution_count": 34,
   "metadata": {},
   "outputs": [],
   "source": [
    "from urllib.request import urlopen\n",
    "from bs4 import BeautifulSoup\n",
    "#import pandas as pd"
   ]
  },
  {
   "cell_type": "code",
   "execution_count": 75,
   "metadata": {},
   "outputs": [],
   "source": [
    "# https://fr.trustpilot.com/categories/electronics_technology\n",
    "\n",
    "def displaySrapData(url_sub_category = \"https://fr.trustpilot.com/categories/electronics_technology\"):\n",
    "    \n",
    "    tpPage = urlopen(url_sub_category)\n",
    "    soup = BeautifulSoup(tpPage, 'html.parser')\n",
    "\n",
    "    tpTitles = soup.findAll(name = 'p', attrs = {'class': 'styles_displayName__1LIcI'})\n",
    "    tpMetrics = soup.findAll(name = 'p', attrs = {'class': 'styles_ratingText__nheL7'})\n",
    "    tpPlaces = soup.findAll(name = 'p', attrs = {'class': 'styles_location__3JATO'})\n",
    "    tpSubCategories = soup.findAll(name = 'div', attrs = {'class': 'styles_desktop__3N0-b'})\n",
    "    tpWebsite = soup.findAll(name = 'a', href = True, attrs = {'class': 'styles_linkWrapper__3x9X7'})\n",
    "\n",
    "\n",
    "    title = [] # On crée une liste vide qui contiendra tous les titres propres\n",
    "    for element in tpTitles:\n",
    "        title.append(element.text.encode('ascii', errors='ignore').decode('utf-8'))\n",
    "\n",
    "    rating = []\n",
    "    review = []\n",
    "    for element in tpMetrics:\n",
    "        rating.append(element.text.encode('ascii', errors='ignore').decode('utf-8').split()[1].split(\"|\")[0])\n",
    "        review.append(element.text.encode('ascii', errors='ignore').decode('utf-8').split()[1].split(\"|\")[1])\n",
    "\n",
    "    city = []\n",
    "    country = []\n",
    "    for element in tpPlaces:\n",
    "        city.append(element.text.encode('ascii', errors='ignore').decode('utf-8').split(\",\")[0])\n",
    "        country.append(element.text.encode('ascii', errors='ignore').decode('utf-8').split(\",\")[1])\n",
    "\n",
    "    subCategory = []\n",
    "    for element in tpSubCategories:\n",
    "        subCategory.append(element.text.encode('ascii', errors='ignore').decode('utf-8'))\n",
    "\n",
    "    website = []\n",
    "    for element in tpWebsite:\n",
    "        website.append(element[\"href\"])\n",
    "\n",
    "\n"
   ]
  },
  {
   "cell_type": "code",
   "execution_count": 76,
   "metadata": {},
   "outputs": [
    {
     "name": "stdout",
     "output_type": "stream",
     "text": [
      "['/review/www.cleanfox.io', '/review/fonebank.fr', '/review/affinitweet.com', '/review/spliiit.com', '/review/wp-rocket.me', '/review/gamefix.fr', '/review/transfernow.net', '/review/www.europe-nature-optik.fr', '/review/sonner.tel', '/review/greenvallee.fr', '/review/www.docorga.com', '/review/www.francechargeur.fr', '/review/bmjelec.com', '/review/sga-reparation.fr', '/review/techpower.fr', '/review/ordipack.fr', '/review/pc-gamer.tech', '/review/hedee-store.com', '/review/epycore.fr', '/review/mshop.fr']\n"
     ]
    }
   ],
   "source": [
    "print(website)"
   ]
  }
 ],
 "metadata": {
  "kernelspec": {
   "display_name": "Python 3.10.6 64-bit",
   "language": "python",
   "name": "python3"
  },
  "language_info": {
   "codemirror_mode": {
    "name": "ipython",
    "version": 3
   },
   "file_extension": ".py",
   "mimetype": "text/x-python",
   "name": "python",
   "nbconvert_exporter": "python",
   "pygments_lexer": "ipython3",
   "version": "3.10.6"
  },
  "orig_nbformat": 4,
  "vscode": {
   "interpreter": {
    "hash": "31f2aee4e71d21fbe5cf8b01ff0e069b9275f58929596ceb00d14d90e3e16cd6"
   }
  }
 },
 "nbformat": 4,
 "nbformat_minor": 2
}
